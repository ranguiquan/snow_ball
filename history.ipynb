{
 "cells": [
  {
   "cell_type": "code",
   "execution_count": 39,
   "metadata": {},
   "outputs": [],
   "source": [
    "import pandas as pd\n",
    "import matplotlib.pyplot as plt\n",
    "import numpy as np\n",
    "import datetime"
   ]
  },
  {
   "cell_type": "code",
   "execution_count": 40,
   "metadata": {},
   "outputs": [],
   "source": [
    "df = pd.read_csv(\"./data/002027.SZ-2016-2018.csv\", index_col=0)\n",
    "df.index = df.index.astype(\"datetime64[ns]\")\n",
    "close = df.loc[df.index >= datetime.datetime(2017, 1, 1), \"Adj Close\"]"
   ]
  },
  {
   "cell_type": "code",
   "execution_count": 44,
   "metadata": {},
   "outputs": [
    {
     "data": {
      "text/plain": [
       "0.4068869705985794"
      ]
     },
     "execution_count": 44,
     "metadata": {},
     "output_type": "execute_result"
    }
   ],
   "source": [
    "daily_return = np.log(close).diff().dropna() ** 2\n",
    "(daily_return.mean() * 240) ** 0.5"
   ]
  },
  {
   "cell_type": "code",
   "execution_count": 42,
   "metadata": {},
   "outputs": [
    {
     "data": {
      "text/plain": [
       "0.02875161161872558"
      ]
     },
     "execution_count": 42,
     "metadata": {},
     "output_type": "execute_result"
    }
   ],
   "source": [
    "def get_price_before(df: pd.DataFrame, date: datetime.datetime) -> float:\n",
    "    return df.loc[df.index <= date, \"Close\"].iloc[-1]\n",
    "\n",
    "\n",
    "# 4.08, 1\n",
    "divident_list = [2.5, 4.08, 1]\n",
    "date_list = [\n",
    "    datetime.datetime(2016, 6, 24),\n",
    "    datetime.datetime(2017, 6, 30),\n",
    "    datetime.datetime(2018, 6, 22),\n",
    "]\n",
    "result = []\n",
    "for div, date in zip(divident_list, date_list):\n",
    "    result.append(div / get_price_before(df, date) / 10)\n",
    "np.mean(result)"
   ]
  }
 ],
 "metadata": {
  "kernelspec": {
   "display_name": "snow-ball-rRykepCb-py3.10",
   "language": "python",
   "name": "python3"
  },
  "language_info": {
   "codemirror_mode": {
    "name": "ipython",
    "version": 3
   },
   "file_extension": ".py",
   "mimetype": "text/x-python",
   "name": "python",
   "nbconvert_exporter": "python",
   "pygments_lexer": "ipython3",
   "version": "3.10.9"
  },
  "orig_nbformat": 4
 },
 "nbformat": 4,
 "nbformat_minor": 2
}
